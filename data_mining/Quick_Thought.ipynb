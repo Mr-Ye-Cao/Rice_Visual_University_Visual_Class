{
  "nbformat": 4,
  "nbformat_minor": 0,
  "metadata": {
    "colab": {
      "name": "Quick Thought.ipynb",
      "provenance": [],
      "collapsed_sections": [],
      "authorship_tag": "ABX9TyMPIkUkn1GLJxMys2DfIX7p",
      "include_colab_link": true
    },
    "kernelspec": {
      "name": "python3",
      "display_name": "Python 3"
    }
  },
  "cells": [
    {
      "cell_type": "markdown",
      "metadata": {
        "id": "view-in-github",
        "colab_type": "text"
      },
      "source": [
        "<a href=\"https://colab.research.google.com/github/Mr-Ye-Cao/Rice_Visual_University_Visual_Class/blob/main/Quick_Thought.ipynb\" target=\"_parent\"><img src=\"https://colab.research.google.com/assets/colab-badge.svg\" alt=\"Open In Colab\"/></a>"
      ]
    },
    {
      "cell_type": "code",
      "metadata": {
        "id": "15ZdF37CWcVR"
      },
      "source": [
        "import requests\n",
        "from bs4 import BeautifulSoup\n",
        "\n",
        "URL = 'https://courses.rice.edu/courses/!SWKSCAT.cat?p_acyr_code=2021&p_action=CATASRCH&p_onebar=&p_mode=AND&p_subj_cd=&p_subj=&p_dept=&p_school=&p_df=&p_submit='\n",
        "page = requests.get(URL)\n",
        "\n",
        "soup = BeautifulSoup(page.content, 'html.parser')"
      ],
      "execution_count": 2,
      "outputs": []
    },
    {
      "cell_type": "code",
      "metadata": {
        "id": "byVVqkNVkCC2"
      },
      "source": [
        "# unmodified raw course categoriy html data\n",
        "course_tag_soup = soup.find_all(\"td\", class_=\"cataCourse\")\n",
        "\n",
        "# There are 6135 courses available for Spring 2021\n",
        "number_courses = len(course_tag_soup)\n",
        "#print(number_courses)\n",
        "\n",
        "every_unique_course_tag = set()\n",
        "\n",
        "for i in range(number_courses):\n",
        "  #print(str(course_tag_soup[i])[-17:-13])\n",
        "  every_unique_course_tag.add(str(course_tag_soup[i])[-17:-13])\n",
        "\n",
        "# There are 182 different course categories\n",
        "#print(len(every_unique_course_tag))\n",
        "\n",
        "# sort course categories alphabetically\n",
        "#print(sorted(every_unique_course_tag))\n",
        "\n",
        "sorted_unqiue_course_categories = sorted(every_unique_course_tag)\n",
        "#print(sorted_unqiue_course_categories)"
      ],
      "execution_count": null,
      "outputs": []
    },
    {
      "cell_type": "code",
      "metadata": {
        "id": "rUOuocJGrwpr"
      },
      "source": [
        "class Course:\n",
        "\n",
        "### Constructor methods\n",
        "  def __init__(self, category, level, title, credit, url, distribution_group=\"NONE\"):\n",
        "    self.category = category\n",
        "    self.level = level\n",
        "    self.title = title\n",
        "    self.distribution_group = distribution_group\n",
        "    self.credit = credit\n",
        "    self.url = url\n",
        "    \n",
        "### Accessor methods\n",
        "  def get_category(self):\n",
        "    return str(self.category)\n",
        "  \n",
        "  def get_level(self):\n",
        "    return str(self.level)\n",
        "  \n",
        "  def get_title(self):\n",
        "    return str(self.title)\n",
        "  \n",
        "  def get_distribution_group(self):\n",
        "    return str(self.distribution_group)\n",
        "  \n",
        "  def get_credit(self):\n",
        "    return str(self.credit)\n",
        "  \n",
        "  def get_url(self):\n",
        "    return str(self.url)\n",
        "    "
      ],
      "execution_count": 120,
      "outputs": []
    },
    {
      "cell_type": "code",
      "metadata": {
        "colab": {
          "base_uri": "https://localhost:8080/",
          "height": 154
        },
        "id": "ZebppZ3K-Vum",
        "outputId": "6f78de29-932d-4549-8ea5-aee37a8994aa"
      },
      "source": [
        "tr_elements = soup.tbody.find_all(\"tr\")\n",
        "\n",
        "all_courses = []\n",
        "\n",
        "for i in range(len(tr_elements)):\n",
        "  tr_element = tr_elements[i]\n",
        "  td_element = tr_element.td\n",
        "  course_cate = td_element.get_text().split(\" \")[0] # course category\n",
        "  course_numb = td_element.get_text().split(\" \")[1] # course level\n",
        "  course_cred = str(tr_element.find_all(\"td\", class_=\"credits\"))[-7:-6] # course credit\n",
        "  course_titl = tr_element.find_all(\"td\", class_=\"cataTitle\")[0].get_text() # course title\n",
        "  course_dist = tr_element.find_all(\"td\", class_=\"cataDist\")[0].get_text() # course distribution\n",
        "\n",
        "  ### Works on the url part and find dependent prerequisite\n",
        "  parent = \"https://courses.rice.edu\"\n",
        "  relative = tr_element.find_all(\"td\")[0].a[\"href\"]\n",
        "  course_url = parent + relative\n",
        "\n",
        "  sub_page = requests.get(course_url)\n",
        "  sub_soup = BeautifulSoup(sub_page.content, 'html.parser')\n",
        "\n",
        "  pre_dep = [sum]\n",
        "  if str(sub_soup).find(\"Prerequisite(s):\") != -1:\n",
        "    \n",
        "  ###\n",
        "  \n",
        "  if course_dist == \"\":\n",
        "    course = Course(course_cate, course_numb, course_titl, course_cred, course_url)\n",
        "  else:\n",
        "    course = Course(course_cate, course_numb, course_titl, course_cred, course_url, course_dist)\n",
        "  #print(course_cate, course_numb, course_cred, course_titl, course_dist)\n",
        "  all_courses.append(course)\n",
        "\n",
        "#soup.tbody.find_all(\"tr\")[0].td.get_text()\n",
        "#soup.tbody.find_all(\"tr\")[0].td.get_text().split(\" \")\n",
        "#str(soup.tbody.find_all(\"tr\")[0].find_all(\"td\", class_=\"credits\"))[-7:-6]\n",
        "#soup.tbody.find_all(\"tr\")[0].find_all(\"td\",class_=\"cataTitle\")[0].get_text()\n",
        "#soup.tbody.find_all(\"tr\")[2].find_all(\"td\",class_=\"cataDist\")[0].get_text()\n",
        "#soup.tbody.find_all(\"tr\")[0].find_all(\"td\",class_=\"credits\")[0].get_text()\n",
        "\n",
        "url = \"https://courses.rice.edu\"+soup.tbody.find_all(\"tr\")[1417].find_all(\"td\")[0].a[\"href\"]\n",
        "sub_page = requests.get(url)\n",
        "sub_soup = BeautifulSoup(sub_page.content, 'html.parser')\n",
        "str(sub_soup)[str(sub_soup).find(\"Prerequisite(s):\"):]\n",
        "\n",
        "\n"
      ],
      "execution_count": 139,
      "outputs": [
        {
          "output_type": "execute_result",
          "data": {
            "application/vnd.google.colaboratory.intrinsic+json": {
              "type": "string"
            },
            "text/plain": [
              "'Prerequisite(s): </b>COMP 182  </div><div><b>Description: </b>This course covers the principles of programming and program design. The course is organized around a number of individual programming assignments that fit together to complete a significant, real-world application. Each assignment emphasizes one or more of the basic principles of software design, including: encapsulation, abstraction, test-driven development, and functional and object-oriented programming. The Java programming language will be used. An introduction to the basics of the Java language itself (including Java syntax and semantics) will be provided. </div></div></div><div>\\xa0</div></div><div class=\"row\"><div class=\"col-lg-12\"><div class=\"bottomLink\"><a href=\"http://ga.rice.edu\"> General Announcements </a></div><div class=\"bottomLink\"><a href=\"https://registrar.rice.edu/facstaff/buildings_classrooms\"> Building Codes </a></div><div class=\"bottomLink\"><a href=\"http://rooms.tlst.rice.edu\"> Classroom Photos &amp; Technology </a></div></div></div><div class=\"row\"><div class=\"col-lg-12\"></div></div><footer class=\"footer\"><p><a href=\"http://www.rice.edu\"><img alt=\"Rice University Logo\" src=\"!SWKFILE.getFile?file=logo-small.img\"/></a>© 2015 Rice University<br/>\\n            6100 Main, Houston, Texas 77005-1892 | Mailing Address: P.O. Box 1892, Houston, Texas 77251-1892\\n        </p></footer></div>\\n<script>\\n  (function(i,s,o,g,r,a,m){i[\\'GoogleAnalyticsObject\\']=r;i[r]=i[r]||function(){\\n  (i[r].q=i[r].q||[]).push(arguments)},i[r].l=1*new Date();a=s.createElement(o),\\n  m=s.getElementsByTagName(o)[0];a.async=1;a.src=g;m.parentNode.insertBefore(a,m)\\n  })(window,document,\\'script\\',\\'//www.google-analytics.com/analytics.js\\',\\'ga\\');\\n\\n  ga(\\'create\\', \\'UA-50245600-3\\', \\'rice.edu\\');\\n  ga(\\'send\\', \\'pageview\\');\\n  \\n  $(\\'#p_submit\\').click(function(){\\n     var p = document.getElementById(\\'p_onebar keywords\\');\\n     p.value = p.value.replace(/\\\\s+/g,\\'+\\');\\n  });\\n \\n</script>\\n</body></html>'"
            ]
          },
          "metadata": {
            "tags": []
          },
          "execution_count": 139
        }
      ]
    },
    {
      "cell_type": "markdown",
      "metadata": {
        "id": "ycEynVHHTx4a"
      },
      "source": [
        "Course Object Construction still uncomplete: I need to extract the prerequisite information out of every url, which requires some regular expression processing. Also I need to take consideration of every possible cases. Like a course A OR B. A AND B"
      ]
    },
    {
      "cell_type": "code",
      "metadata": {
        "id": "rlJ7DFw-UTY_"
      },
      "source": [
        "After this I will need to work on the node UI generation, which basically requires a library to process the dependency graph and possible a good UI."
      ],
      "execution_count": null,
      "outputs": []
    }
  ]
}

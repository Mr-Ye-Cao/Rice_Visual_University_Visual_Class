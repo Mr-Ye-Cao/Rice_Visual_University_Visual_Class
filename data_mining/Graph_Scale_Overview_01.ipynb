{
  "nbformat": 4,
  "nbformat_minor": 0,
  "metadata": {
    "colab": {
      "name": "Untitled",
      "provenance": [],
      "authorship_tag": "ABX9TyNfw2PahSdFvVYaKna0q3KA",
      "include_colab_link": true
    },
    "kernelspec": {
      "name": "python3",
      "display_name": "Python 3"
    }
  },
  "cells": [
    {
      "cell_type": "markdown",
      "metadata": {
        "id": "view-in-github",
        "colab_type": "text"
      },
      "source": [
        "<a href=\"https://colab.research.google.com/github/Mr-Ye-Cao/Rice_Visual_University_Visual_Class/blob/main/Graph_Scale_Overview_01.ipynb\" target=\"_parent\"><img src=\"https://colab.research.google.com/assets/colab-badge.svg\" alt=\"Open In Colab\"/></a>"
      ]
    },
    {
      "cell_type": "code",
      "metadata": {
        "id": "R-RdtzYNOpUJ"
      },
      "source": [
        "f = open(\"course.txt\")\n",
        "\n",
        "course = str(f.read()).split('\\n')\n",
        "\n",
        "# 1631 course with infor\n",
        "# len(course)\n",
        "\n",
        "pre_cour = [cou for cou in course if cou.find('<-') != -1]\n",
        "\n",
        "# 1098 course with prerequisite infor\n",
        "# len(pre_cour)"
      ],
      "execution_count": null,
      "outputs": []
    },
    {
      "cell_type": "code",
      "metadata": {
        "colab": {
          "base_uri": "https://localhost:8080/"
        },
        "id": "uLusJD9k6L7v",
        "outputId": "b5c245d0-abc6-472e-998d-d0174c332db7"
      },
      "source": [
        "from collections import defaultdict\n",
        "\n",
        "# 79 different categories\n",
        "ice_cream = defaultdict(lambda: 0)\n",
        "\n",
        "for pre in pre_cour:\n",
        "  ice_cream[pre[:pre.find(\" \")]] += 1\n",
        "\n",
        "ice_cream"
      ],
      "execution_count": 18,
      "outputs": [
        {
          "output_type": "execute_result",
          "data": {
            "text/plain": [
              "defaultdict(<function __main__.<lambda>>,\n",
              "            {'ANTH': 13,\n",
              "             'ARAB': 5,\n",
              "             'ARCH': 13,\n",
              "             'ARTS': 13,\n",
              "             'ASIA': 3,\n",
              "             'ASTR': 11,\n",
              "             'BIOE': 49,\n",
              "             'BIOS': 59,\n",
              "             'BUSI': 8,\n",
              "             'CAAM': 6,\n",
              "             'CEVE': 30,\n",
              "             'CHBE': 22,\n",
              "             'CHEM': 31,\n",
              "             'CHIN': 12,\n",
              "             'CLAS': 1,\n",
              "             'CLIC': 1,\n",
              "             'COMP': 78,\n",
              "             'DSCI': 6,\n",
              "             'ECON': 60,\n",
              "             'EDUC': 4,\n",
              "             'ELEC': 61,\n",
              "             'ENGI': 9,\n",
              "             'ENGL': 15,\n",
              "             'ENST': 4,\n",
              "             'ESCI': 36,\n",
              "             'EURO': 1,\n",
              "             'FILM': 2,\n",
              "             'FOTO': 3,\n",
              "             'FREN': 3,\n",
              "             'GERM': 5,\n",
              "             'GLHT': 4,\n",
              "             'HART': 2,\n",
              "             'HEAL': 4,\n",
              "             'HIND': 6,\n",
              "             'HIST': 2,\n",
              "             'HONS': 1,\n",
              "             'INDE': 7,\n",
              "             'ITAL': 5,\n",
              "             'JAPA': 5,\n",
              "             'KINE': 11,\n",
              "             'KORE': 7,\n",
              "             'LATI': 4,\n",
              "             'LING': 33,\n",
              "             'LPAP': 11,\n",
              "             'MACC': 2,\n",
              "             'MANA': 1,\n",
              "             'MATH': 40,\n",
              "             'MDEM': 5,\n",
              "             'MDHM': 1,\n",
              "             'MECH': 50,\n",
              "             'MGMP': 1,\n",
              "             'MGMT': 33,\n",
              "             'MILI': 3,\n",
              "             'MSNE': 17,\n",
              "             'MUSI': 20,\n",
              "             'NAVA': 1,\n",
              "             'NEUR': 8,\n",
              "             'NSCI': 2,\n",
              "             'PHIL': 1,\n",
              "             'PHYS': 18,\n",
              "             'PJHC': 4,\n",
              "             'POLI': 46,\n",
              "             'PORT': 6,\n",
              "             'PSYC': 48,\n",
              "             'RCEL': 4,\n",
              "             'RELI': 7,\n",
              "             'RUSS': 5,\n",
              "             'SMGT': 24,\n",
              "             'SOCI': 5,\n",
              "             'SOPA': 3,\n",
              "             'SOSC': 1,\n",
              "             'SPAN': 6,\n",
              "             'SPPO': 1,\n",
              "             'SSPB': 1,\n",
              "             'STAT': 52,\n",
              "             'SWGS': 3,\n",
              "             'THEA': 8,\n",
              "             'TIBT': 1,\n",
              "             'UNIV': 4})"
            ]
          },
          "metadata": {
            "tags": []
          },
          "execution_count": 18
        }
      ]
    }
  ]
}
